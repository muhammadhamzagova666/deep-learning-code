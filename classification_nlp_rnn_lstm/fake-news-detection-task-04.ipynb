{
  "cells": [
    {
      "cell_type": "code",
      "execution_count": null,
      "id": "48b15439",
      "metadata": {
        "execution": {
          "iopub.execute_input": "2025-04-06T13:37:15.283045Z",
          "iopub.status.busy": "2025-04-06T13:37:15.282703Z",
          "iopub.status.idle": "2025-04-06T13:37:16.488943Z",
          "shell.execute_reply": "2025-04-06T13:37:16.487955Z"
        },
        "papermill": {
          "duration": 1.211866,
          "end_time": "2025-04-06T13:37:16.490248",
          "exception": false,
          "start_time": "2025-04-06T13:37:15.278382",
          "status": "completed"
        },
        "tags": [],
        "id": "48b15439",
        "outputId": "c3ef94a6-1807-46fa-8b0a-ae1117330b8a"
      },
      "outputs": [
        {
          "name": "stdout",
          "output_type": "stream",
          "text": [
            "/kaggle/input/fake-news-detection-datasets/News _dataset/True.csv\n",
            "/kaggle/input/fake-news-detection-datasets/News _dataset/Fake.csv\n"
          ]
        }
      ],
      "source": [
        "import numpy as np\n",
        "import pandas as pd\n",
        "import os\n",
        "\n",
        "for dirname, _, filenames in os.walk('/kaggle/input'):\n",
        "    for filename in filenames:\n",
        "        print(os.path.join(dirname, filename))"
      ]
    },
    {
      "cell_type": "code",
      "execution_count": null,
      "id": "bc612b7d",
      "metadata": {
        "execution": {
          "iopub.execute_input": "2025-04-06T13:37:16.496596Z",
          "iopub.status.busy": "2025-04-06T13:37:16.496253Z",
          "iopub.status.idle": "2025-04-06T13:37:22.047427Z",
          "shell.execute_reply": "2025-04-06T13:37:22.046248Z"
        },
        "papermill": {
          "duration": 5.55635,
          "end_time": "2025-04-06T13:37:22.049543",
          "exception": false,
          "start_time": "2025-04-06T13:37:16.493193",
          "status": "completed"
        },
        "tags": [],
        "id": "bc612b7d"
      },
      "outputs": [],
      "source": [
        "!pip install --quiet nltk tensorflow scikit-learn matplotlib"
      ]
    },
    {
      "cell_type": "code",
      "execution_count": null,
      "id": "bd203615",
      "metadata": {
        "execution": {
          "iopub.execute_input": "2025-04-06T13:37:22.056430Z",
          "iopub.status.busy": "2025-04-06T13:37:22.056143Z",
          "iopub.status.idle": "2025-04-06T13:37:40.871956Z",
          "shell.execute_reply": "2025-04-06T13:37:40.871283Z"
        },
        "papermill": {
          "duration": 18.821034,
          "end_time": "2025-04-06T13:37:40.873462",
          "exception": false,
          "start_time": "2025-04-06T13:37:22.052428",
          "status": "completed"
        },
        "tags": [],
        "id": "bd203615"
      },
      "outputs": [],
      "source": [
        "import pandas as pd\n",
        "import numpy as np\n",
        "import re\n",
        "import nltk\n",
        "from nltk.corpus import stopwords\n",
        "from nltk.stem import PorterStemmer\n",
        "from sklearn.model_selection import train_test_split\n",
        "from sklearn.metrics import (\n",
        "    accuracy_score, precision_score, recall_score,\n",
        "    f1_score, confusion_matrix, classification_report,\n",
        "    average_precision_score, jaccard_score\n",
        ")\n",
        "import tensorflow as tf\n",
        "from tensorflow.keras.preprocessing.text import Tokenizer\n",
        "from tensorflow.keras.preprocessing.sequence import pad_sequences\n",
        "from tensorflow.keras.models import Sequential\n",
        "from tensorflow.keras.layers import Embedding, LSTM, GRU, Bidirectional, Dense\n",
        "from tensorflow.keras.optimizers import Adam\n",
        "from tensorflow.keras.callbacks import EarlyStopping, ModelCheckpoint\n",
        "import matplotlib.pyplot as plt"
      ]
    },
    {
      "cell_type": "code",
      "execution_count": null,
      "id": "4a1b26b8",
      "metadata": {
        "execution": {
          "iopub.execute_input": "2025-04-06T13:37:40.879948Z",
          "iopub.status.busy": "2025-04-06T13:37:40.879510Z",
          "iopub.status.idle": "2025-04-06T13:37:41.144902Z",
          "shell.execute_reply": "2025-04-06T13:37:41.143843Z"
        },
        "papermill": {
          "duration": 0.269651,
          "end_time": "2025-04-06T13:37:41.146044",
          "exception": false,
          "start_time": "2025-04-06T13:37:40.876393",
          "status": "completed"
        },
        "tags": [],
        "id": "4a1b26b8",
        "outputId": "863c7d66-b2ca-487d-e0e3-5289070b34ee"
      },
      "outputs": [
        {
          "name": "stdout",
          "output_type": "stream",
          "text": [
            "[nltk_data] Downloading package punkt to /usr/share/nltk_data...\n",
            "[nltk_data]   Package punkt is already up-to-date!\n",
            "[nltk_data] Downloading package stopwords to /usr/share/nltk_data...\n",
            "[nltk_data]   Unzipping corpora/stopwords.zip.\n"
          ]
        },
        {
          "data": {
            "text/plain": [
              "True"
            ]
          },
          "execution_count": 4,
          "metadata": {},
          "output_type": "execute_result"
        }
      ],
      "source": [
        "nltk.download('punkt')\n",
        "nltk.download('stopwords')"
      ]
    },
    {
      "cell_type": "code",
      "execution_count": null,
      "id": "d2f6a559",
      "metadata": {
        "execution": {
          "iopub.execute_input": "2025-04-06T13:37:41.152416Z",
          "iopub.status.busy": "2025-04-06T13:37:41.152174Z",
          "iopub.status.idle": "2025-04-06T13:37:43.649274Z",
          "shell.execute_reply": "2025-04-06T13:37:43.648185Z"
        },
        "papermill": {
          "duration": 2.507015,
          "end_time": "2025-04-06T13:37:43.655925",
          "exception": false,
          "start_time": "2025-04-06T13:37:41.148910",
          "status": "completed"
        },
        "tags": [],
        "id": "d2f6a559",
        "outputId": "0e84b50f-b07a-410d-fec7-16c079e6e737"
      },
      "outputs": [
        {
          "name": "stdout",
          "output_type": "stream",
          "text": [
            "label\n",
            "0    23481\n",
            "1    21417\n",
            "Name: count, dtype: int64\n"
          ]
        },
        {
          "data": {
            "text/html": [
              "<div>\n",
              "<style scoped>\n",
              "    .dataframe tbody tr th:only-of-type {\n",
              "        vertical-align: middle;\n",
              "    }\n",
              "\n",
              "    .dataframe tbody tr th {\n",
              "        vertical-align: top;\n",
              "    }\n",
              "\n",
              "    .dataframe thead th {\n",
              "        text-align: right;\n",
              "    }\n",
              "</style>\n",
              "<table border=\"1\" class=\"dataframe\">\n",
              "  <thead>\n",
              "    <tr style=\"text-align: right;\">\n",
              "      <th></th>\n",
              "      <th>text</th>\n",
              "      <th>label</th>\n",
              "    </tr>\n",
              "  </thead>\n",
              "  <tbody>\n",
              "    <tr>\n",
              "      <th>0</th>\n",
              "      <td>WASHINGTON (Reuters) - The head of a conservat...</td>\n",
              "      <td>1</td>\n",
              "    </tr>\n",
              "    <tr>\n",
              "      <th>1</th>\n",
              "      <td>WASHINGTON (Reuters) - Transgender people will...</td>\n",
              "      <td>1</td>\n",
              "    </tr>\n",
              "    <tr>\n",
              "      <th>2</th>\n",
              "      <td>WASHINGTON (Reuters) - The special counsel inv...</td>\n",
              "      <td>1</td>\n",
              "    </tr>\n",
              "    <tr>\n",
              "      <th>3</th>\n",
              "      <td>WASHINGTON (Reuters) - Trump campaign adviser ...</td>\n",
              "      <td>1</td>\n",
              "    </tr>\n",
              "    <tr>\n",
              "      <th>4</th>\n",
              "      <td>SEATTLE/WASHINGTON (Reuters) - President Donal...</td>\n",
              "      <td>1</td>\n",
              "    </tr>\n",
              "  </tbody>\n",
              "</table>\n",
              "</div>"
            ],
            "text/plain": [
              "                                                text  label\n",
              "0  WASHINGTON (Reuters) - The head of a conservat...      1\n",
              "1  WASHINGTON (Reuters) - Transgender people will...      1\n",
              "2  WASHINGTON (Reuters) - The special counsel inv...      1\n",
              "3  WASHINGTON (Reuters) - Trump campaign adviser ...      1\n",
              "4  SEATTLE/WASHINGTON (Reuters) - President Donal...      1"
            ]
          },
          "execution_count": 5,
          "metadata": {},
          "output_type": "execute_result"
        }
      ],
      "source": [
        "folder = '/kaggle/input/fake-news-detection-datasets/News _dataset/'\n",
        "\n",
        "df_real = pd.read_csv(os.path.join(folder, 'True.csv'))\n",
        "df_fake = pd.read_csv(os.path.join(folder, 'Fake.csv'))\n",
        "\n",
        "# Label: 1=real, 0=fake\n",
        "df_real['label'] = 1\n",
        "df_fake['label'] = 0\n",
        "\n",
        "# Keep only text and label\n",
        "df = pd.concat([df_real[['text','label']], df_fake[['text','label']]], ignore_index=True)\n",
        "print(df.label.value_counts())\n",
        "df.head()"
      ]
    },
    {
      "cell_type": "code",
      "execution_count": null,
      "id": "8455c480",
      "metadata": {
        "execution": {
          "iopub.execute_input": "2025-04-06T13:37:43.664395Z",
          "iopub.status.busy": "2025-04-06T13:37:43.664151Z",
          "iopub.status.idle": "2025-04-06T13:40:41.327441Z",
          "shell.execute_reply": "2025-04-06T13:40:41.326701Z"
        },
        "papermill": {
          "duration": 177.669075,
          "end_time": "2025-04-06T13:40:41.329031",
          "exception": false,
          "start_time": "2025-04-06T13:37:43.659956",
          "status": "completed"
        },
        "tags": [],
        "id": "8455c480"
      },
      "outputs": [],
      "source": [
        "stop_words = set(stopwords.words('english'))\n",
        "stemmer = PorterStemmer()\n",
        "\n",
        "def clean_text(text):\n",
        "    text = str(text).lower()\n",
        "    text = re.sub(r'http\\S+|www\\S+|https\\S+', '', text)\n",
        "    text = re.sub(r'[^a-zA-Z\\s]', '', text)\n",
        "    tokens = text.split()\n",
        "    tokens = [stemmer.stem(w) for w in tokens if w not in stop_words]\n",
        "    return ' '.join(tokens)\n",
        "\n",
        "# Apply cleaning\n",
        "df['clean_text'] = df['text'].apply(clean_text)"
      ]
    },
    {
      "cell_type": "code",
      "execution_count": null,
      "id": "321810ec",
      "metadata": {
        "execution": {
          "iopub.execute_input": "2025-04-06T13:40:41.336604Z",
          "iopub.status.busy": "2025-04-06T13:40:41.336350Z",
          "iopub.status.idle": "2025-04-06T13:40:50.626542Z",
          "shell.execute_reply": "2025-04-06T13:40:50.625818Z"
        },
        "papermill": {
          "duration": 9.295285,
          "end_time": "2025-04-06T13:40:50.627917",
          "exception": false,
          "start_time": "2025-04-06T13:40:41.332632",
          "status": "completed"
        },
        "tags": [],
        "id": "321810ec"
      },
      "outputs": [],
      "source": [
        "X = df['clean_text'].values\n",
        "y = df['label'].values\n",
        "\n",
        "X_train, X_test, y_train, y_test = train_test_split(\n",
        "    X, y, test_size=0.2, random_state=42, stratify=y\n",
        ")\n",
        "\n",
        "# Tokenizer & Padding\n",
        "max_vocab = 20000\n",
        "max_len   = 200\n",
        "\n",
        "tokenizer = Tokenizer(num_words=max_vocab, oov_token='<OOV>')\n",
        "tokenizer.fit_on_texts(X_train)\n",
        "\n",
        "train_seq = tokenizer.texts_to_sequences(X_train)\n",
        "test_seq  = tokenizer.texts_to_sequences(X_test)\n",
        "\n",
        "train_pad = pad_sequences(train_seq, maxlen=max_len, padding='post', truncating='post')\n",
        "test_pad  = pad_sequences(test_seq,  maxlen=max_len, padding='post', truncating='post')"
      ]
    },
    {
      "cell_type": "code",
      "execution_count": null,
      "id": "90bc5e1a",
      "metadata": {
        "execution": {
          "iopub.execute_input": "2025-04-06T13:40:50.635116Z",
          "iopub.status.busy": "2025-04-06T13:40:50.634875Z",
          "iopub.status.idle": "2025-04-06T13:40:50.641433Z",
          "shell.execute_reply": "2025-04-06T13:40:50.640774Z"
        },
        "papermill": {
          "duration": 0.011224,
          "end_time": "2025-04-06T13:40:50.642563",
          "exception": false,
          "start_time": "2025-04-06T13:40:50.631339",
          "status": "completed"
        },
        "tags": [],
        "id": "90bc5e1a"
      },
      "outputs": [],
      "source": [
        "def build_rnn(vocab_size, embed_dim=64, units=64):\n",
        "    model = Sequential([\n",
        "        Embedding(vocab_size, embed_dim, input_length=max_len),\n",
        "        GRU(units),\n",
        "        Dense(1, activation='sigmoid')\n",
        "    ])\n",
        "    model.compile(\n",
        "        loss='binary_crossentropy', optimizer=Adam(1e-3), metrics=['accuracy']\n",
        "    )\n",
        "    return model\n",
        "\n",
        "def build_bi_rnn(vocab_size, embed_dim=64, units=64):\n",
        "    model = Sequential([\n",
        "        Embedding(vocab_size, embed_dim, input_length=max_len),\n",
        "        Bidirectional(GRU(units)),\n",
        "        Dense(1, activation='sigmoid')\n",
        "    ])\n",
        "    model.compile(\n",
        "        loss='binary_crossentropy', optimizer=Adam(1e-3), metrics=['accuracy']\n",
        "    )\n",
        "    return model\n",
        "\n",
        "def build_lstm(vocab_size, embed_dim=64, units=64):\n",
        "    model = Sequential([\n",
        "        Embedding(vocab_size, embed_dim, input_length=max_len),\n",
        "        LSTM(units),\n",
        "        Dense(1, activation='sigmoid')\n",
        "    ])\n",
        "    model.compile(\n",
        "        loss='binary_crossentropy', optimizer=Adam(1e-3), metrics=['accuracy']\n",
        "    )\n",
        "    return model\n",
        "\n",
        "def build_bi_lstm(vocab_size, embed_dim=64, units=64):\n",
        "    model = Sequential([\n",
        "        Embedding(vocab_size, embed_dim, input_length=max_len),\n",
        "        Bidirectional(LSTM(units)),\n",
        "        Dense(1, activation='sigmoid')\n",
        "    ])\n",
        "    model.compile(\n",
        "        loss='binary_crossentropy', optimizer=Adam(1e-3), metrics=['accuracy']\n",
        "    )\n",
        "    return model"
      ]
    },
    {
      "cell_type": "code",
      "execution_count": null,
      "id": "2acec758",
      "metadata": {
        "execution": {
          "iopub.execute_input": "2025-04-06T13:40:50.649035Z",
          "iopub.status.busy": "2025-04-06T13:40:50.648808Z",
          "iopub.status.idle": "2025-04-06T13:45:44.969554Z",
          "shell.execute_reply": "2025-04-06T13:45:44.968612Z"
        },
        "papermill": {
          "duration": 294.32622,
          "end_time": "2025-04-06T13:45:44.971686",
          "exception": false,
          "start_time": "2025-04-06T13:40:50.645466",
          "status": "completed"
        },
        "tags": [],
        "id": "2acec758",
        "outputId": "105b935f-3d65-4d75-d754-8112cd4be45a"
      },
      "outputs": [
        {
          "name": "stderr",
          "output_type": "stream",
          "text": [
            "/usr/local/lib/python3.10/dist-packages/keras/src/layers/core/embedding.py:90: UserWarning: Argument `input_length` is deprecated. Just remove it.\n",
            "  warnings.warn(\n"
          ]
        },
        {
          "name": "stdout",
          "output_type": "stream",
          "text": [
            "\n",
            "Training RNN\n",
            "Epoch 1/10\n",
            "562/562 - 10s - 18ms/step - accuracy: 0.8271 - loss: 0.4073 - val_accuracy: 0.9618 - val_loss: 0.1571\n",
            "Epoch 2/10\n",
            "562/562 - 5s - 9ms/step - accuracy: 0.9775 - loss: 0.0953 - val_accuracy: 0.9937 - val_loss: 0.0335\n",
            "Epoch 3/10\n",
            "562/562 - 5s - 9ms/step - accuracy: 0.9938 - loss: 0.0334 - val_accuracy: 0.9939 - val_loss: 0.0338\n",
            "Epoch 4/10\n",
            "562/562 - 5s - 9ms/step - accuracy: 0.9959 - loss: 0.0220 - val_accuracy: 0.9968 - val_loss: 0.0185\n",
            "Epoch 5/10\n",
            "562/562 - 5s - 9ms/step - accuracy: 0.9955 - loss: 0.0213 - val_accuracy: 0.9955 - val_loss: 0.0236\n",
            "Epoch 6/10\n",
            "562/562 - 5s - 9ms/step - accuracy: 0.9959 - loss: 0.0177 - val_accuracy: 0.9954 - val_loss: 0.0232\n",
            "Epoch 7/10\n",
            "562/562 - 5s - 9ms/step - accuracy: 0.9941 - loss: 0.0270 - val_accuracy: 0.9942 - val_loss: 0.0314\n",
            "Epoch 8/10\n",
            "562/562 - 5s - 9ms/step - accuracy: 0.9931 - loss: 0.0279 - val_accuracy: 0.9944 - val_loss: 0.0263\n",
            "Epoch 9/10\n",
            "562/562 - 5s - 9ms/step - accuracy: 0.9963 - loss: 0.0146 - val_accuracy: 0.9951 - val_loss: 0.0241\n",
            "Epoch 10/10\n",
            "562/562 - 5s - 9ms/step - accuracy: 0.9720 - loss: 0.1064 - val_accuracy: 0.9942 - val_loss: 0.0299\n",
            "\n",
            "Training Bi-RNN\n",
            "Epoch 1/10\n",
            "562/562 - 11s - 20ms/step - accuracy: 0.9881 - loss: 0.0418 - val_accuracy: 0.9987 - val_loss: 0.0062\n",
            "Epoch 2/10\n",
            "562/562 - 9s - 15ms/step - accuracy: 0.9991 - loss: 0.0046 - val_accuracy: 0.9988 - val_loss: 0.0055\n",
            "Epoch 3/10\n",
            "562/562 - 9s - 15ms/step - accuracy: 0.9997 - loss: 0.0013 - val_accuracy: 0.9990 - val_loss: 0.0048\n",
            "Epoch 4/10\n",
            "562/562 - 9s - 15ms/step - accuracy: 0.9999 - loss: 8.0258e-04 - val_accuracy: 0.9986 - val_loss: 0.0050\n",
            "Epoch 5/10\n",
            "562/562 - 9s - 15ms/step - accuracy: 0.9999 - loss: 6.2804e-04 - val_accuracy: 0.9983 - val_loss: 0.0075\n",
            "Epoch 6/10\n",
            "562/562 - 9s - 15ms/step - accuracy: 0.9999 - loss: 6.6495e-04 - val_accuracy: 0.9987 - val_loss: 0.0061\n",
            "Epoch 7/10\n",
            "562/562 - 9s - 15ms/step - accuracy: 0.9999 - loss: 4.7539e-04 - val_accuracy: 0.9987 - val_loss: 0.0081\n",
            "Epoch 8/10\n",
            "562/562 - 9s - 15ms/step - accuracy: 1.0000 - loss: 4.0464e-04 - val_accuracy: 0.9984 - val_loss: 0.0085\n",
            "Epoch 9/10\n",
            "562/562 - 9s - 16ms/step - accuracy: 1.0000 - loss: 3.7235e-04 - val_accuracy: 0.9986 - val_loss: 0.0096\n",
            "Epoch 10/10\n",
            "562/562 - 9s - 15ms/step - accuracy: 1.0000 - loss: 3.5819e-04 - val_accuracy: 0.9986 - val_loss: 0.0094\n",
            "\n",
            "Training LSTM\n",
            "Epoch 1/10\n",
            "562/562 - 7s - 12ms/step - accuracy: 0.9027 - loss: 0.2799 - val_accuracy: 0.9596 - val_loss: 0.1587\n",
            "Epoch 2/10\n",
            "562/562 - 5s - 9ms/step - accuracy: 0.9065 - loss: 0.2860 - val_accuracy: 0.9176 - val_loss: 0.2366\n",
            "Epoch 3/10\n",
            "562/562 - 5s - 10ms/step - accuracy: 0.9542 - loss: 0.1463 - val_accuracy: 0.9611 - val_loss: 0.1211\n",
            "Epoch 4/10\n",
            "562/562 - 5s - 9ms/step - accuracy: 0.9785 - loss: 0.0781 - val_accuracy: 0.9836 - val_loss: 0.0591\n",
            "Epoch 5/10\n",
            "562/562 - 5s - 9ms/step - accuracy: 0.9908 - loss: 0.0403 - val_accuracy: 0.9933 - val_loss: 0.0267\n",
            "Epoch 6/10\n",
            "562/562 - 5s - 9ms/step - accuracy: 0.9962 - loss: 0.0148 - val_accuracy: 0.9934 - val_loss: 0.0215\n",
            "Epoch 7/10\n",
            "562/562 - 5s - 9ms/step - accuracy: 0.9979 - loss: 0.0092 - val_accuracy: 0.9963 - val_loss: 0.0129\n",
            "Epoch 8/10\n",
            "562/562 - 5s - 9ms/step - accuracy: 0.9415 - loss: 0.1596 - val_accuracy: 0.9028 - val_loss: 0.2138\n",
            "Epoch 9/10\n",
            "562/562 - 5s - 10ms/step - accuracy: 0.9844 - loss: 0.0556 - val_accuracy: 0.9856 - val_loss: 0.0519\n",
            "Epoch 10/10\n",
            "562/562 - 5s - 9ms/step - accuracy: 0.9947 - loss: 0.0227 - val_accuracy: 0.9893 - val_loss: 0.0398\n",
            "\n",
            "Training Bi-LSTM\n",
            "Epoch 1/10\n",
            "562/562 - 12s - 21ms/step - accuracy: 0.9845 - loss: 0.0496 - val_accuracy: 0.9984 - val_loss: 0.0088\n",
            "Epoch 2/10\n",
            "562/562 - 9s - 16ms/step - accuracy: 0.9990 - loss: 0.0057 - val_accuracy: 0.9989 - val_loss: 0.0055\n",
            "Epoch 3/10\n",
            "562/562 - 9s - 16ms/step - accuracy: 0.9995 - loss: 0.0030 - val_accuracy: 0.9990 - val_loss: 0.0052\n",
            "Epoch 4/10\n",
            "562/562 - 9s - 16ms/step - accuracy: 0.9997 - loss: 0.0014 - val_accuracy: 0.9988 - val_loss: 0.0069\n",
            "Epoch 5/10\n",
            "562/562 - 9s - 16ms/step - accuracy: 0.9999 - loss: 7.0345e-04 - val_accuracy: 0.9991 - val_loss: 0.0049\n",
            "Epoch 6/10\n",
            "562/562 - 9s - 16ms/step - accuracy: 0.9999 - loss: 4.4354e-04 - val_accuracy: 0.9991 - val_loss: 0.0058\n",
            "Epoch 7/10\n",
            "562/562 - 9s - 16ms/step - accuracy: 1.0000 - loss: 3.0219e-04 - val_accuracy: 0.9989 - val_loss: 0.0062\n",
            "Epoch 8/10\n",
            "562/562 - 9s - 16ms/step - accuracy: 1.0000 - loss: 2.6871e-04 - val_accuracy: 0.9989 - val_loss: 0.0072\n",
            "Epoch 9/10\n",
            "562/562 - 9s - 16ms/step - accuracy: 1.0000 - loss: 2.4598e-04 - val_accuracy: 0.9988 - val_loss: 0.0077\n",
            "Epoch 10/10\n",
            "562/562 - 9s - 16ms/step - accuracy: 1.0000 - loss: 2.3911e-04 - val_accuracy: 0.9988 - val_loss: 0.0087\n"
          ]
        }
      ],
      "source": [
        "callbacks = [\n",
        "    # EarlyStopping(monitor='val_loss', patience=2, restore_best_weights=True),\n",
        "    ModelCheckpoint('best_model.keras', monitor='val_loss', save_best_only=True)\n",
        "]\n",
        "\n",
        "epochs = 10\n",
        "batch = 64\n",
        "\n",
        "models = {\n",
        "    'RNN': build_rnn(max_vocab),\n",
        "    'Bi-RNN': build_bi_rnn(max_vocab),\n",
        "    'LSTM': build_lstm(max_vocab),\n",
        "    'Bi-LSTM': build_bi_lstm(max_vocab)\n",
        "}\n",
        "\n",
        "for name, model in models.items():\n",
        "    print(f\"\\nTraining {name}\")\n",
        "    model.fit(\n",
        "        train_pad, y_train,\n",
        "        validation_data=(test_pad, y_test),\n",
        "        epochs=epochs, batch_size=batch,\n",
        "        callbacks=callbacks, verbose=2\n",
        "    )"
      ]
    },
    {
      "cell_type": "code",
      "execution_count": null,
      "id": "588b30f1",
      "metadata": {
        "execution": {
          "iopub.execute_input": "2025-04-06T13:45:44.986390Z",
          "iopub.status.busy": "2025-04-06T13:45:44.986121Z",
          "iopub.status.idle": "2025-04-06T13:45:44.990801Z",
          "shell.execute_reply": "2025-04-06T13:45:44.990198Z"
        },
        "papermill": {
          "duration": 0.013451,
          "end_time": "2025-04-06T13:45:44.991859",
          "exception": false,
          "start_time": "2025-04-06T13:45:44.978408",
          "status": "completed"
        },
        "tags": [],
        "id": "588b30f1"
      },
      "outputs": [],
      "source": [
        "from sklearn.metrics import ConfusionMatrixDisplay\n",
        "\n",
        "def evaluate(y_true, y_pred, y_prob, model_name):\n",
        "    print(f\"\\n=== {model_name} Evaluation ===\")\n",
        "    print(classification_report(y_true, y_pred, digits=4))\n",
        "    cm = confusion_matrix(y_true, y_pred)\n",
        "    disp = ConfusionMatrixDisplay(cm, display_labels=[0,1])\n",
        "    disp.plot(cmap='Blues')\n",
        "    plt.title(f\"{model_name} Confusion Matrix\")\n",
        "    plt.show()\n",
        "\n",
        "    ap_pos = average_precision_score(y_true, y_prob)\n",
        "    ap_neg = average_precision_score(1-y_true, 1-y_prob)\n",
        "    mAP = (ap_pos + ap_neg)/2\n",
        "    iou = jaccard_score(y_true, y_pred)\n",
        "    print(f\"mAP: {mAP:.4f}, Jaccard IoU: {iou:.4f}\")"
      ]
    },
    {
      "cell_type": "code",
      "execution_count": null,
      "id": "cff978df",
      "metadata": {
        "execution": {
          "iopub.execute_input": "2025-04-06T13:45:45.005213Z",
          "iopub.status.busy": "2025-04-06T13:45:45.004958Z",
          "iopub.status.idle": "2025-04-06T13:45:52.347675Z",
          "shell.execute_reply": "2025-04-06T13:45:52.346805Z"
        },
        "papermill": {
          "duration": 7.35077,
          "end_time": "2025-04-06T13:45:52.348974",
          "exception": false,
          "start_time": "2025-04-06T13:45:44.998204",
          "status": "completed"
        },
        "tags": [],
        "id": "cff978df",
        "outputId": "b9f9e1c5-bb1e-45b9-e90a-f78afe8d87cd"
      },
      "outputs": [
        {
          "name": "stdout",
          "output_type": "stream",
          "text": [
            "\u001b[1m281/281\u001b[0m \u001b[32m━━━━━━━━━━━━━━━━━━━━\u001b[0m\u001b[37m\u001b[0m \u001b[1m1s\u001b[0m 4ms/step\n",
            "\n",
            "=== RNN Evaluation ===\n",
            "              precision    recall  f1-score   support\n",
            "\n",
            "           0     0.9938    0.9951    0.9945      4696\n",
            "           1     0.9946    0.9932    0.9939      4284\n",
            "\n",
            "    accuracy                         0.9942      8980\n",
            "   macro avg     0.9942    0.9942    0.9942      8980\n",
            "weighted avg     0.9942    0.9942    0.9942      8980\n",
            "\n"
          ]
        },
        {
          "data": {
            "image/png": "[encoded data removed]",
            "text/plain": [
              "<Figure size 640x480 with 2 Axes>"
            ]
          },
          "metadata": {},
          "output_type": "display_data"
        },
        {
          "name": "stdout",
          "output_type": "stream",
          "text": [
            "mAP: 0.9981, Jaccard IoU: 0.9879\n",
            "\u001b[1m281/281\u001b[0m \u001b[32m━━━━━━━━━━━━━━━━━━━━\u001b[0m\u001b[37m\u001b[0m \u001b[1m2s\u001b[0m 6ms/step\n",
            "\n",
            "=== Bi-RNN Evaluation ===\n",
            "              precision    recall  f1-score   support\n",
            "\n",
            "           0     0.9983    0.9989    0.9986      4696\n",
            "           1     0.9988    0.9981    0.9985      4284\n",
            "\n",
            "    accuracy                         0.9986      8980\n",
            "   macro avg     0.9986    0.9985    0.9985      8980\n",
            "weighted avg     0.9986    0.9986    0.9986      8980\n",
            "\n"
          ]
        },
        {
          "data": {
            "image/png": "[encoded data removed]",
            "text/plain": [
              "<Figure size 640x480 with 2 Axes>"
            ]
          },
          "metadata": {},
          "output_type": "display_data"
        },
        {
          "name": "stdout",
          "output_type": "stream",
          "text": [
            "mAP: 0.9999, Jaccard IoU: 0.9970\n",
            "\u001b[1m281/281\u001b[0m \u001b[32m━━━━━━━━━━━━━━━━━━━━\u001b[0m\u001b[37m\u001b[0m \u001b[1m1s\u001b[0m 4ms/step\n",
            "\n",
            "=== LSTM Evaluation ===\n",
            "              precision    recall  f1-score   support\n",
            "\n",
            "           0     0.9970    0.9825    0.9897      4696\n",
            "           1     0.9812    0.9967    0.9889      4284\n",
            "\n",
            "    accuracy                         0.9893      8980\n",
            "   macro avg     0.9891    0.9896    0.9893      8980\n",
            "weighted avg     0.9894    0.9893    0.9893      8980\n",
            "\n"
          ]
        },
        {
          "data": {
            "image/png": "[encoded data removed]",
            "text/plain": [
              "<Figure size 640x480 with 2 Axes>"
            ]
          },
          "metadata": {},
          "output_type": "display_data"
        },
        {
          "name": "stdout",
          "output_type": "stream",
          "text": [
            "mAP: 0.9978, Jaccard IoU: 0.9780\n",
            "\u001b[1m281/281\u001b[0m \u001b[32m━━━━━━━━━━━━━━━━━━━━\u001b[0m\u001b[37m\u001b[0m \u001b[1m2s\u001b[0m 6ms/step\n",
            "\n",
            "=== Bi-LSTM Evaluation ===\n",
            "              precision    recall  f1-score   support\n",
            "\n",
            "           0     0.9987    0.9989    0.9988      4696\n",
            "           1     0.9988    0.9986    0.9987      4284\n",
            "\n",
            "    accuracy                         0.9988      8980\n",
            "   macro avg     0.9988    0.9988    0.9988      8980\n",
            "weighted avg     0.9988    0.9988    0.9988      8980\n",
            "\n"
          ]
        },
        {
          "data": {
            "image/png": "[encoded data removed]",
            "text/plain": [
              "<Figure size 640x480 with 2 Axes>"
            ]
          },
          "metadata": {},
          "output_type": "display_data"
        },
        {
          "name": "stdout",
          "output_type": "stream",
          "text": [
            "mAP: 0.9994, Jaccard IoU: 0.9974\n"
          ]
        }
      ],
      "source": [
        "for name, model in models.items():\n",
        "    probs = model.predict(test_pad).flatten()\n",
        "    preds = (probs > 0.5).astype(int)\n",
        "    evaluate(y_test, preds, probs, name)"
      ]
    },
    {
      "cell_type": "code",
      "execution_count": null,
      "id": "96a2e51c",
      "metadata": {
        "papermill": {
          "duration": 0.013955,
          "end_time": "2025-04-06T13:45:52.377897",
          "exception": false,
          "start_time": "2025-04-06T13:45:52.363942",
          "status": "completed"
        },
        "tags": [],
        "id": "96a2e51c"
      },
      "outputs": [],
      "source": []
    }
  ],
  "metadata": {
    "kaggle": {
      "accelerator": "nvidiaTeslaT4",
      "dataSources": [
        {
          "datasetId": 2712039,
          "sourceId": 4679796,
          "sourceType": "datasetVersion"
        }
      ],
      "dockerImageVersionId": 30918,
      "isGpuEnabled": true,
      "isInternetEnabled": true,
      "language": "python",
      "sourceType": "notebook"
    },
    "kernelspec": {
      "display_name": "Python 3",
      "language": "python",
      "name": "python3"
    },
    "language_info": {
      "codemirror_mode": {
        "name": "ipython",
        "version": 3
      },
      "file_extension": ".py",
      "mimetype": "text/x-python",
      "name": "python",
      "nbconvert_exporter": "python",
      "pygments_lexer": "ipython3",
      "version": "3.10.12"
    },
    "papermill": {
      "default_parameters": {},
      "duration": 523.436054,
      "end_time": "2025-04-06T13:45:55.130006",
      "environment_variables": {},
      "exception": null,
      "input_path": "__notebook__.ipynb",
      "output_path": "__notebook__.ipynb",
      "parameters": {},
      "start_time": "2025-04-06T13:37:11.693952",
      "version": "2.6.0"
    },
    "colab": {
      "provenance": []
    }
  },
  "nbformat": 4,
  "nbformat_minor": 5
}