{
  "cells": [
    {
      "cell_type": "code",
      "execution_count": null,
      "id": "3f4c2b12",
      "metadata": {
        "_cell_guid": "b1076dfc-b9ad-4769-8c92-a6c4dae69d19",
        "_uuid": "8f2839f25d086af736a60e9eeb907d3b93b6e0e5",
        "execution": {
          "iopub.execute_input": "2025-04-06T13:51:45.447027Z",
          "iopub.status.busy": "2025-04-06T13:51:45.446657Z",
          "iopub.status.idle": "2025-04-06T13:51:46.319657Z",
          "shell.execute_reply": "2025-04-06T13:51:46.318493Z"
        },
        "papermill": {
          "duration": 0.880372,
          "end_time": "2025-04-06T13:51:46.322096",
          "exception": false,
          "start_time": "2025-04-06T13:51:45.441724",
          "status": "completed"
        },
        "tags": [],
        "id": "3f4c2b12",
        "outputId": "4ce2f0ad-9e84-4f1e-b31e-18ca349ac8b1"
      },
      "outputs": [
        {
          "name": "stdout",
          "output_type": "stream",
          "text": [
            "/kaggle/input/fake-news-detection-datasets/News _dataset/True.csv\n",
            "/kaggle/input/fake-news-detection-datasets/News _dataset/Fake.csv\n"
          ]
        }
      ],
      "source": [
        "import os\n",
        "import numpy as np\n",
        "import pandas as pd\n",
        "\n",
        "for dirname, _, filenames in os.walk('/kaggle/input'):\n",
        "    for filename in filenames:\n",
        "        print(os.path.join(dirname, filename))"
      ]
    },
    {
      "cell_type": "code",
      "execution_count": null,
      "id": "3dced2f4",
      "metadata": {
        "execution": {
          "iopub.execute_input": "2025-04-06T13:51:46.333223Z",
          "iopub.status.busy": "2025-04-06T13:51:46.332713Z",
          "iopub.status.idle": "2025-04-06T13:51:52.594384Z",
          "shell.execute_reply": "2025-04-06T13:51:52.593202Z"
        },
        "papermill": {
          "duration": 6.268527,
          "end_time": "2025-04-06T13:51:52.596329",
          "exception": false,
          "start_time": "2025-04-06T13:51:46.327802",
          "status": "completed"
        },
        "tags": [],
        "id": "3dced2f4",
        "outputId": "f342e72b-dd2c-4e05-8ce3-01eb73495c5f"
      },
      "outputs": [
        {
          "name": "stdout",
          "output_type": "stream",
          "text": [
            "\u001b[2K   \u001b[90m━━━━━━━━━━━━━━━━━━━━━━━━━━━━━━━━━━━━━━━━\u001b[0m \u001b[32m105.3/105.3 kB\u001b[0m \u001b[31m4.2 MB/s\u001b[0m eta \u001b[36m0:00:00\u001b[0m\r\n",
            "\u001b[2K   \u001b[90m━━━━━━━━━━━━━━━━━━━━━━━━━━━━━━━━━━━━━━━━\u001b[0m \u001b[32m939.4/939.4 kB\u001b[0m \u001b[31m22.1 MB/s\u001b[0m eta \u001b[36m0:00:00\u001b[0m\r\n",
            "\u001b[2K   \u001b[90m━━━━━━━━━━━━━━━━━━━━━━━━━━━━━━━━━━━━━━━━\u001b[0m \u001b[32m2.1/2.1 MB\u001b[0m \u001b[31m55.8 MB/s\u001b[0m eta \u001b[36m0:00:00\u001b[0m\r\n",
            "\u001b[?25h"
          ]
        }
      ],
      "source": [
        "!pip install --quiet nltk textstat scikit-learn tensorflow matplotlib seaborn"
      ]
    },
    {
      "cell_type": "code",
      "execution_count": null,
      "id": "63266982",
      "metadata": {
        "execution": {
          "iopub.execute_input": "2025-04-06T13:51:52.605084Z",
          "iopub.status.busy": "2025-04-06T13:51:52.604709Z",
          "iopub.status.idle": "2025-04-06T13:52:10.321827Z",
          "shell.execute_reply": "2025-04-06T13:52:10.321103Z"
        },
        "papermill": {
          "duration": 17.723135,
          "end_time": "2025-04-06T13:52:10.323408",
          "exception": false,
          "start_time": "2025-04-06T13:51:52.600273",
          "status": "completed"
        },
        "tags": [],
        "id": "63266982"
      },
      "outputs": [],
      "source": [
        "import re\n",
        "import nltk\n",
        "import textstat\n",
        "from nltk.corpus import stopwords\n",
        "from nltk.tokenize import word_tokenize, sent_tokenize\n",
        "from sklearn.model_selection import train_test_split\n",
        "from sklearn.preprocessing import StandardScaler\n",
        "from sklearn.metrics import (\n",
        "    accuracy_score, precision_score, recall_score, f1_score,\n",
        "    confusion_matrix, classification_report,\n",
        "    average_precision_score, jaccard_score, ConfusionMatrixDisplay\n",
        ")\n",
        "from sklearn.neighbors import KNeighborsClassifier\n",
        "from sklearn.ensemble import RandomForestClassifier\n",
        "import tensorflow as tf\n",
        "from tensorflow.keras.preprocessing.text import Tokenizer\n",
        "from tensorflow.keras.preprocessing.sequence import pad_sequences\n",
        "from tensorflow.keras.models import Sequential\n",
        "from tensorflow.keras.layers import Embedding, LSTM, GRU, Bidirectional, Dense, Dropout\n",
        "from tensorflow.keras.optimizers import Adam\n",
        "from tensorflow.keras.callbacks import EarlyStopping, ModelCheckpoint\n",
        "import matplotlib.pyplot as plt\n",
        "import seaborn as sns"
      ]
    },
    {
      "cell_type": "code",
      "execution_count": null,
      "id": "60d2d261",
      "metadata": {
        "execution": {
          "iopub.execute_input": "2025-04-06T13:52:10.331703Z",
          "iopub.status.busy": "2025-04-06T13:52:10.331247Z",
          "iopub.status.idle": "2025-04-06T13:52:10.542318Z",
          "shell.execute_reply": "2025-04-06T13:52:10.541534Z"
        },
        "papermill": {
          "duration": 0.216445,
          "end_time": "2025-04-06T13:52:10.543652",
          "exception": false,
          "start_time": "2025-04-06T13:52:10.327207",
          "status": "completed"
        },
        "tags": [],
        "id": "60d2d261",
        "outputId": "da3e5b41-8a4a-4e4b-8324-2279af33a227"
      },
      "outputs": [
        {
          "name": "stdout",
          "output_type": "stream",
          "text": [
            "[nltk_data] Downloading package punkt to /usr/share/nltk_data...\n",
            "[nltk_data]   Package punkt is already up-to-date!\n",
            "[nltk_data] Downloading package stopwords to /usr/share/nltk_data...\n",
            "[nltk_data]   Unzipping corpora/stopwords.zip.\n"
          ]
        },
        {
          "data": {
            "text/plain": [
              "True"
            ]
          },
          "execution_count": 4,
          "metadata": {},
          "output_type": "execute_result"
        }
      ],
      "source": [
        "nltk.download('punkt')\n",
        "nltk.download('stopwords')"
      ]
    },
    {
      "cell_type": "code",
      "execution_count": null,
      "id": "0593bff7",
      "metadata": {
        "execution": {
          "iopub.execute_input": "2025-04-06T13:52:10.551643Z",
          "iopub.status.busy": "2025-04-06T13:52:10.551387Z",
          "iopub.status.idle": "2025-04-06T13:52:13.426749Z",
          "shell.execute_reply": "2025-04-06T13:52:13.425898Z"
        },
        "papermill": {
          "duration": 2.880981,
          "end_time": "2025-04-06T13:52:13.428325",
          "exception": false,
          "start_time": "2025-04-06T13:52:10.547344",
          "status": "completed"
        },
        "tags": [],
        "id": "0593bff7",
        "outputId": "99db62e6-a8cb-46a3-cbf1-fec5b0e55f6c"
      },
      "outputs": [
        {
          "name": "stdout",
          "output_type": "stream",
          "text": [
            "label\n",
            "0    23481\n",
            "1    21417\n",
            "Name: count, dtype: int64\n"
          ]
        },
        {
          "data": {
            "text/html": [
              "<div>\n",
              "<style scoped>\n",
              "    .dataframe tbody tr th:only-of-type {\n",
              "        vertical-align: middle;\n",
              "    }\n",
              "\n",
              "    .dataframe tbody tr th {\n",
              "        vertical-align: top;\n",
              "    }\n",
              "\n",
              "    .dataframe thead th {\n",
              "        text-align: right;\n",
              "    }\n",
              "</style>\n",
              "<table border=\"1\" class=\"dataframe\">\n",
              "  <thead>\n",
              "    <tr style=\"text-align: right;\">\n",
              "      <th></th>\n",
              "      <th>text</th>\n",
              "      <th>label</th>\n",
              "    </tr>\n",
              "  </thead>\n",
              "  <tbody>\n",
              "    <tr>\n",
              "      <th>0</th>\n",
              "      <td>Donald Trump s White House is in chaos, and th...</td>\n",
              "      <td>0</td>\n",
              "    </tr>\n",
              "    <tr>\n",
              "      <th>1</th>\n",
              "      <td>Now that Donald Trump is the presumptive GOP n...</td>\n",
              "      <td>0</td>\n",
              "    </tr>\n",
              "    <tr>\n",
              "      <th>2</th>\n",
              "      <td>Mike Pence is a huge homophobe. He supports ex...</td>\n",
              "      <td>0</td>\n",
              "    </tr>\n",
              "    <tr>\n",
              "      <th>3</th>\n",
              "      <td>SAN FRANCISCO (Reuters) - California Attorney ...</td>\n",
              "      <td>1</td>\n",
              "    </tr>\n",
              "    <tr>\n",
              "      <th>4</th>\n",
              "      <td>Twisted reasoning is all that comes from Pelos...</td>\n",
              "      <td>0</td>\n",
              "    </tr>\n",
              "  </tbody>\n",
              "</table>\n",
              "</div>"
            ],
            "text/plain": [
              "                                                text  label\n",
              "0  Donald Trump s White House is in chaos, and th...      0\n",
              "1  Now that Donald Trump is the presumptive GOP n...      0\n",
              "2  Mike Pence is a huge homophobe. He supports ex...      0\n",
              "3  SAN FRANCISCO (Reuters) - California Attorney ...      1\n",
              "4  Twisted reasoning is all that comes from Pelos...      0"
            ]
          },
          "execution_count": 5,
          "metadata": {},
          "output_type": "execute_result"
        }
      ],
      "source": [
        "folder = '/kaggle/input/fake-news-detection-datasets/News _dataset/'\n",
        "\n",
        "df_real = pd.read_csv(os.path.join(folder, 'True.csv'))\n",
        "df_fake = pd.read_csv(os.path.join(folder, 'Fake.csv'))\n",
        "\n",
        "# Label encoding: 1 = real, 0 = fake\n",
        "df_real['label'] = 1\n",
        "df_fake['label'] = 0\n",
        "\n",
        "# Combine and shuffle\n",
        "df = pd.concat([df_real[['text','label']], df_fake[['text','label']]], ignore_index=True)\n",
        "df = df.sample(frac=1, random_state=42).reset_index(drop=True)\n",
        "print(df.label.value_counts())\n",
        "df.head()"
      ]
    },
    {
      "cell_type": "code",
      "execution_count": null,
      "id": "2632bb18",
      "metadata": {
        "execution": {
          "iopub.execute_input": "2025-04-06T13:52:13.437223Z",
          "iopub.status.busy": "2025-04-06T13:52:13.436947Z",
          "iopub.status.idle": "2025-04-06T13:55:15.822628Z",
          "shell.execute_reply": "2025-04-06T13:55:15.821698Z"
        },
        "papermill": {
          "duration": 182.396084,
          "end_time": "2025-04-06T13:55:15.828598",
          "exception": false,
          "start_time": "2025-04-06T13:52:13.432514",
          "status": "completed"
        },
        "tags": [],
        "id": "2632bb18",
        "outputId": "7b70d8c1-a365-4985-8ebc-b181e7404248"
      },
      "outputs": [
        {
          "data": {
            "text/html": [
              "<div>\n",
              "<style scoped>\n",
              "    .dataframe tbody tr th:only-of-type {\n",
              "        vertical-align: middle;\n",
              "    }\n",
              "\n",
              "    .dataframe tbody tr th {\n",
              "        vertical-align: top;\n",
              "    }\n",
              "\n",
              "    .dataframe thead th {\n",
              "        text-align: right;\n",
              "    }\n",
              "</style>\n",
              "<table border=\"1\" class=\"dataframe\">\n",
              "  <thead>\n",
              "    <tr style=\"text-align: right;\">\n",
              "      <th></th>\n",
              "      <th>text</th>\n",
              "      <th>label</th>\n",
              "      <th>clean_text</th>\n",
              "    </tr>\n",
              "  </thead>\n",
              "  <tbody>\n",
              "    <tr>\n",
              "      <th>0</th>\n",
              "      <td>Donald Trump s White House is in chaos, and th...</td>\n",
              "      <td>0</td>\n",
              "      <td>donald trump white hous chao tri cover russia ...</td>\n",
              "    </tr>\n",
              "    <tr>\n",
              "      <th>1</th>\n",
              "      <td>Now that Donald Trump is the presumptive GOP n...</td>\n",
              "      <td>0</td>\n",
              "      <td>donald trump presumpt gop nomine time rememb c...</td>\n",
              "    </tr>\n",
              "    <tr>\n",
              "      <th>2</th>\n",
              "      <td>Mike Pence is a huge homophobe. He supports ex...</td>\n",
              "      <td>0</td>\n",
              "      <td>mike penc huge homophob support exgay convers ...</td>\n",
              "    </tr>\n",
              "    <tr>\n",
              "      <th>3</th>\n",
              "      <td>SAN FRANCISCO (Reuters) - California Attorney ...</td>\n",
              "      <td>1</td>\n",
              "      <td>san francisco reuter california attorney gener...</td>\n",
              "    </tr>\n",
              "    <tr>\n",
              "      <th>4</th>\n",
              "      <td>Twisted reasoning is all that comes from Pelos...</td>\n",
              "      <td>0</td>\n",
              "      <td>twist reason come pelosi day especi promin dem...</td>\n",
              "    </tr>\n",
              "  </tbody>\n",
              "</table>\n",
              "</div>"
            ],
            "text/plain": [
              "                                                text  label  \\\n",
              "0  Donald Trump s White House is in chaos, and th...      0   \n",
              "1  Now that Donald Trump is the presumptive GOP n...      0   \n",
              "2  Mike Pence is a huge homophobe. He supports ex...      0   \n",
              "3  SAN FRANCISCO (Reuters) - California Attorney ...      1   \n",
              "4  Twisted reasoning is all that comes from Pelos...      0   \n",
              "\n",
              "                                          clean_text  \n",
              "0  donald trump white hous chao tri cover russia ...  \n",
              "1  donald trump presumpt gop nomine time rememb c...  \n",
              "2  mike penc huge homophob support exgay convers ...  \n",
              "3  san francisco reuter california attorney gener...  \n",
              "4  twist reason come pelosi day especi promin dem...  "
            ]
          },
          "execution_count": 6,
          "metadata": {},
          "output_type": "execute_result"
        }
      ],
      "source": [
        "# Preprocessing\n",
        "t_stop = set(stopwords.words('english'))\n",
        "\n",
        "from nltk.stem import PorterStemmer\n",
        "stemmer = PorterStemmer()\n",
        "\n",
        "def clean_text(text):\n",
        "    text = str(text).lower()\n",
        "    text = re.sub(r'http\\S+|www\\S+|https\\S+', '', text)\n",
        "    text = re.sub(r'[^a-zA-Z\\s]', '', text)\n",
        "    tokens = text.split()\n",
        "    tokens = [stemmer.stem(w) for w in tokens if w not in t_stop]\n",
        "    return ' '.join(tokens)\n",
        "\n",
        "# Apply cleaning\n",
        "[df.head()]\n",
        "df['clean_text'] = df['text'].apply(clean_text)\n",
        "df.head()"
      ]
    },
    {
      "cell_type": "code",
      "execution_count": null,
      "id": "96894b2a",
      "metadata": {
        "execution": {
          "iopub.execute_input": "2025-04-06T13:55:15.837672Z",
          "iopub.status.busy": "2025-04-06T13:55:15.837416Z",
          "iopub.status.idle": "2025-04-06T13:59:27.723848Z",
          "shell.execute_reply": "2025-04-06T13:59:27.722694Z"
        },
        "papermill": {
          "duration": 251.892982,
          "end_time": "2025-04-06T13:59:27.725908",
          "exception": false,
          "start_time": "2025-04-06T13:55:15.832926",
          "status": "completed"
        },
        "tags": [],
        "id": "96894b2a"
      },
      "outputs": [],
      "source": [
        "# Feature extractor\n",
        "def extract_features(text):\n",
        "    words = word_tokenize(text)\n",
        "    sents = sent_tokenize(text)\n",
        "    wc = len(words)\n",
        "    sc = len(sents)\n",
        "    avg_ws = wc/sc if sc else 0\n",
        "    swc = sum(1 for w in words if w.lower() in t_stop)\n",
        "    lex_div = len(set(words))/wc if wc else 0\n",
        "    # Readability\n",
        "    fre = textstat.flesch_reading_ease(text)\n",
        "    si = textstat.smog_index(text)\n",
        "    fk = textstat.flesch_kincaid_grade(text)\n",
        "    ari = textstat.automated_readability_index(text)\n",
        "    return [wc, sc, avg_ws, swc, lex_div, fre, si, fk, ari]\n",
        "\n",
        "# Apply feature extraction\n",
        "feat_cols = [\n",
        "    'word_count','sentence_count','avg_words_per_sentence',\n",
        "    'stopword_count','lexical_diversity','flesch_reading_ease',\n",
        "    'smog_index','flesch_kincaid_grade','automated_readability_index'\n",
        "]\n",
        "\n",
        "df['features'] = df['text'].apply(extract_features)\n",
        "feat_df = pd.DataFrame(df['features'].tolist(), columns=feat_cols)\n",
        "\n",
        "# Combine with labels\n",
        "data_feat = pd.concat([feat_df, df['label']], axis=1)"
      ]
    },
    {
      "cell_type": "code",
      "execution_count": null,
      "id": "730a5284",
      "metadata": {
        "execution": {
          "iopub.execute_input": "2025-04-06T13:59:27.735382Z",
          "iopub.status.busy": "2025-04-06T13:59:27.735088Z",
          "iopub.status.idle": "2025-04-06T13:59:27.816806Z",
          "shell.execute_reply": "2025-04-06T13:59:27.815766Z"
        },
        "papermill": {
          "duration": 0.088077,
          "end_time": "2025-04-06T13:59:27.818669",
          "exception": false,
          "start_time": "2025-04-06T13:59:27.730592",
          "status": "completed"
        },
        "tags": [],
        "id": "730a5284"
      },
      "outputs": [],
      "source": [
        "X_feat = data_feat.drop('label', axis=1)\n",
        "X_text = df['clean_text']\n",
        "y = data_feat['label']\n",
        "\n",
        "# Split\n",
        "Xf_train, Xf_test, Xt_train, Xt_test, y_train, y_test = train_test_split(\n",
        "    X_feat, X_text, y, test_size=0.2, random_state=42, stratify=y\n",
        ")\n",
        "\n",
        "# Scale features\n",
        "scaler = StandardScaler()\n",
        "Xf_train_scaled = scaler.fit_transform(Xf_train)\n",
        "Xf_test_scaled = scaler.transform(Xf_test)"
      ]
    },
    {
      "cell_type": "code",
      "execution_count": null,
      "id": "4295c7fe",
      "metadata": {
        "execution": {
          "iopub.execute_input": "2025-04-06T13:59:27.829955Z",
          "iopub.status.busy": "2025-04-06T13:59:27.829655Z",
          "iopub.status.idle": "2025-04-06T13:59:37.890013Z",
          "shell.execute_reply": "2025-04-06T13:59:37.888841Z"
        },
        "papermill": {
          "duration": 10.067956,
          "end_time": "2025-04-06T13:59:37.891922",
          "exception": false,
          "start_time": "2025-04-06T13:59:27.823966",
          "status": "completed"
        },
        "tags": [],
        "id": "4295c7fe",
        "outputId": "2209a190-2199-4d46-9ada-1e57e737d08e"
      },
      "outputs": [
        {
          "name": "stdout",
          "output_type": "stream",
          "text": [
            "\n",
            "=== KNN ===\n",
            "              precision    recall  f1-score   support\n",
            "\n",
            "           0     0.8741    0.8431    0.8583      4696\n",
            "           1     0.8344    0.8669    0.8504      4284\n",
            "\n",
            "    accuracy                         0.8545      8980\n",
            "   macro avg     0.8543    0.8550    0.8543      8980\n",
            "weighted avg     0.8552    0.8545    0.8545      8980\n",
            "\n"
          ]
        },
        {
          "data": {
            "image/png": "[encoded data removed]",
            "text/plain": [
              "<Figure size 640x480 with 2 Axes>"
            ]
          },
          "metadata": {},
          "output_type": "display_data"
        },
        {
          "name": "stdout",
          "output_type": "stream",
          "text": [
            "mAP: 0.9038, IoU: 0.7397\n",
            "\n",
            "=== Random Forest ===\n",
            "              precision    recall  f1-score   support\n",
            "\n",
            "           0     0.8993    0.9146    0.9069      4696\n",
            "           1     0.9046    0.8877    0.8961      4284\n",
            "\n",
            "    accuracy                         0.9018      8980\n",
            "   macro avg     0.9020    0.9012    0.9015      8980\n",
            "weighted avg     0.9018    0.9018    0.9017      8980\n",
            "\n"
          ]
        },
        {
          "data": {
            "image/png": "[encoded data removed]",
            "text/plain": [
              "<Figure size 640x480 with 2 Axes>"
            ]
          },
          "metadata": {},
          "output_type": "display_data"
        },
        {
          "name": "stdout",
          "output_type": "stream",
          "text": [
            "mAP: 0.9611, IoU: 0.8117\n"
          ]
        }
      ],
      "source": [
        "knn = KNeighborsClassifier(n_neighbors=5)\n",
        "rf  = RandomForestClassifier(n_estimators=100, random_state=42)\n",
        "\n",
        "knn.fit(Xf_train_scaled, y_train)\n",
        "rf.fit(Xf_train_scaled, y_train)\n",
        "\n",
        "# Evaluation\n",
        "def evaluate_model(y_true, y_pred, y_prob, name):\n",
        "    print(f\"\\n=== {name} ===\")\n",
        "    print(classification_report(y_true, y_pred, digits=4))\n",
        "    cm = confusion_matrix(y_true, y_pred)\n",
        "    disp = ConfusionMatrixDisplay(cm, display_labels=[0,1])\n",
        "    disp.plot(cmap='Blues')\n",
        "    plt.show()\n",
        "    ap_pos = average_precision_score(y_true, y_prob)\n",
        "    ap_neg = average_precision_score(1-y_true, 1-y_prob)\n",
        "    print(f\"mAP: {(ap_pos+ap_neg)/2:.4f}, IoU: {jaccard_score(y_true, y_pred):.4f}\")\n",
        "\n",
        "# Predict & evaluate\n",
        "for name, model in [('KNN', knn), ('Random Forest', rf)]:\n",
        "    yp = model.predict(Xf_test_scaled)\n",
        "    yp_prob = model.predict_proba(Xf_test_scaled)[:,1]\n",
        "    evaluate_model(y_test, yp, yp_prob, name)"
      ]
    },
    {
      "cell_type": "code",
      "execution_count": null,
      "id": "07bf64d8",
      "metadata": {
        "execution": {
          "iopub.execute_input": "2025-04-06T13:59:37.910327Z",
          "iopub.status.busy": "2025-04-06T13:59:37.910037Z",
          "iopub.status.idle": "2025-04-06T13:59:48.120273Z",
          "shell.execute_reply": "2025-04-06T13:59:48.119491Z"
        },
        "papermill": {
          "duration": 10.220782,
          "end_time": "2025-04-06T13:59:48.122013",
          "exception": false,
          "start_time": "2025-04-06T13:59:37.901231",
          "status": "completed"
        },
        "tags": [],
        "id": "07bf64d8"
      },
      "outputs": [],
      "source": [
        "max_vocab = 20000\n",
        "max_len   = 200\n",
        "\n",
        "tok = Tokenizer(num_words=max_vocab, oov_token='<OOV>')\n",
        "tok.fit_on_texts(Xt_train)\n",
        "\n",
        "train_seq = tok.texts_to_sequences(Xt_train)\n",
        "test_seq  = tok.texts_to_sequences(Xt_test)\n",
        "\n",
        "train_pad = pad_sequences(train_seq, maxlen=max_len, padding='post', truncating='post')\n",
        "test_pad  = pad_sequences(test_seq,  maxlen=max_len, padding='post', truncating='post')"
      ]
    },
    {
      "cell_type": "code",
      "execution_count": null,
      "id": "9530dc0d",
      "metadata": {
        "execution": {
          "iopub.execute_input": "2025-04-06T13:59:48.132778Z",
          "iopub.status.busy": "2025-04-06T13:59:48.132509Z",
          "iopub.status.idle": "2025-04-06T13:59:48.139032Z",
          "shell.execute_reply": "2025-04-06T13:59:48.138347Z"
        },
        "papermill": {
          "duration": 0.013425,
          "end_time": "2025-04-06T13:59:48.140414",
          "exception": false,
          "start_time": "2025-04-06T13:59:48.126989",
          "status": "completed"
        },
        "tags": [],
        "id": "9530dc0d"
      },
      "outputs": [],
      "source": [
        "def build_rnn(vocab_size, embed_dim=64, units=64, dropout=0.2):\n",
        "    model = Sequential([\n",
        "        Embedding(vocab_size, embed_dim),\n",
        "        GRU(units, dropout=dropout, recurrent_dropout=dropout),\n",
        "        Dense(1, activation='sigmoid')\n",
        "    ])\n",
        "    model.compile(loss='binary_crossentropy', optimizer=Adam(1e-3), metrics=['accuracy'])\n",
        "    return model\n",
        "\n",
        "def build_bi_rnn(vocab_size, embed_dim=64, units=64, dropout=0.2):\n",
        "    model = Sequential([\n",
        "        Embedding(vocab_size, embed_dim),\n",
        "        Bidirectional(GRU(units, dropout=dropout, recurrent_dropout=dropout)),\n",
        "        Dense(1, activation='sigmoid')\n",
        "    ])\n",
        "    model.compile(loss='binary_crossentropy', optimizer=Adam(1e-3), metrics=['accuracy'])\n",
        "    return model\n",
        "\n",
        "def build_lstm(vocab_size, embed_dim=64, units=64, dropout=0.2):\n",
        "    model = Sequential([\n",
        "        Embedding(vocab_size, embed_dim),\n",
        "        LSTM(units, dropout=dropout, recurrent_dropout=dropout),\n",
        "        Dense(1, activation='sigmoid')\n",
        "    ])\n",
        "    model.compile(loss='binary_crossentropy', optimizer=Adam(1e-3), metrics=['accuracy'])\n",
        "    return model\n",
        "\n",
        "def build_bi_lstm(vocab_size, embed_dim=64, units=64, dropout=0.2):\n",
        "    model = Sequential([\n",
        "        Embedding(vocab_size, embed_dim),\n",
        "        Bidirectional(LSTM(units, dropout=dropout, recurrent_dropout=dropout)),\n",
        "        Dense(1, activation='sigmoid')\n",
        "    ])\n",
        "    model.compile(loss='binary_crossentropy', optimizer=Adam(1e-3), metrics=['accuracy'])\n",
        "    return model"
      ]
    },
    {
      "cell_type": "code",
      "execution_count": null,
      "id": "85d7f23f",
      "metadata": {
        "execution": {
          "iopub.execute_input": "2025-04-06T13:59:48.150966Z",
          "iopub.status.busy": "2025-04-06T13:59:48.150720Z",
          "iopub.status.idle": "2025-04-06T15:55:49.788849Z",
          "shell.execute_reply": "2025-04-06T15:55:49.788083Z"
        },
        "papermill": {
          "duration": 6961.650288,
          "end_time": "2025-04-06T15:55:49.795401",
          "exception": false,
          "start_time": "2025-04-06T13:59:48.145113",
          "status": "completed"
        },
        "tags": [],
        "id": "85d7f23f",
        "outputId": "2a92a597-7d81-43b0-be30-707c694ea173"
      },
      "outputs": [
        {
          "name": "stdout",
          "output_type": "stream",
          "text": [
            "\n",
            "Training RNN\n",
            "Epoch 1/15\n",
            "562/562 - 216s - 384ms/step - accuracy: 0.6464 - loss: 29492.4512 - val_accuracy: 0.6452 - val_loss: 0.6337\n",
            "Epoch 2/15\n",
            "562/562 - 206s - 367ms/step - accuracy: 0.6867 - loss: 52.9596 - val_accuracy: 0.6318 - val_loss: 0.6216\n",
            "Epoch 3/15\n",
            "562/562 - 206s - 366ms/step - accuracy: 0.6937 - loss: 1108.0442 - val_accuracy: 0.6404 - val_loss: 0.6148\n",
            "Epoch 4/15\n",
            "562/562 - 207s - 368ms/step - accuracy: 0.6998 - loss: 20.4102 - val_accuracy: 0.6463 - val_loss: 0.6055\n",
            "Epoch 5/15\n",
            "562/562 - 206s - 367ms/step - accuracy: 0.7121 - loss: 1.9174 - val_accuracy: 0.6497 - val_loss: 0.6013\n",
            "Epoch 6/15\n",
            "562/562 - 207s - 369ms/step - accuracy: 0.6338 - loss: 38162907136.0000 - val_accuracy: 0.5827 - val_loss: 0.6533\n",
            "Epoch 7/15\n",
            "562/562 - 205s - 366ms/step - accuracy: 0.6640 - loss: 0.5881 - val_accuracy: 0.6282 - val_loss: 0.6392\n",
            "Epoch 8/15\n",
            "562/562 - 207s - 368ms/step - accuracy: 0.6791 - loss: 0.5611 - val_accuracy: 0.6300 - val_loss: 0.6326\n",
            "Epoch 9/15\n",
            "562/562 - 207s - 368ms/step - accuracy: 0.6825 - loss: 172155879424.0000 - val_accuracy: 0.5955 - val_loss: 0.6613\n",
            "Epoch 10/15\n",
            "562/562 - 204s - 363ms/step - accuracy: 0.6605 - loss: 0.5532 - val_accuracy: 0.5892 - val_loss: 0.6338\n",
            "Epoch 11/15\n",
            "562/562 - 206s - 367ms/step - accuracy: 0.6754 - loss: 0.5280 - val_accuracy: 0.5909 - val_loss: 0.6298\n",
            "Epoch 12/15\n",
            "562/562 - 205s - 365ms/step - accuracy: 0.6844 - loss: 0.5161 - val_accuracy: 0.6297 - val_loss: 0.6282\n",
            "Epoch 13/15\n",
            "562/562 - 205s - 364ms/step - accuracy: 0.6945 - loss: 0.5038 - val_accuracy: 0.6317 - val_loss: 0.6283\n",
            "Epoch 14/15\n",
            "562/562 - 206s - 366ms/step - accuracy: 0.6905 - loss: 146190647296.0000 - val_accuracy: 0.6346 - val_loss: 0.6246\n",
            "Epoch 15/15\n",
            "562/562 - 205s - 364ms/step - accuracy: 0.7062 - loss: 0.4884 - val_accuracy: 0.6335 - val_loss: 0.6270\n",
            "\n",
            "Training Bi-RNN\n",
            "Epoch 1/5\n",
            "562/562 - 337s - 599ms/step - accuracy: 0.9714 - loss: 1270239488.0000 - val_accuracy: 0.9793 - val_loss: 0.1168\n",
            "Epoch 2/5\n",
            "562/562 - 336s - 598ms/step - accuracy: 0.9822 - loss: 0.0711 - val_accuracy: 0.9963 - val_loss: 0.0700\n",
            "Epoch 3/5\n",
            "562/562 - 336s - 597ms/step - accuracy: 0.9839 - loss: 0.0467 - val_accuracy: 0.9964 - val_loss: 0.0511\n",
            "Epoch 4/5\n",
            "562/562 - 331s - 589ms/step - accuracy: 0.9872 - loss: 0.0351 - val_accuracy: 0.9969 - val_loss: 0.0406\n",
            "Epoch 5/5\n",
            "562/562 - 335s - 597ms/step - accuracy: 0.9900 - loss: 0.0278 - val_accuracy: 0.9963 - val_loss: 0.0338\n",
            "\n",
            "Training LSTM\n",
            "Epoch 1/5\n",
            "562/562 - 166s - 295ms/step - accuracy: 0.8818 - loss: 0.3160 - val_accuracy: 0.9386 - val_loss: 0.2173\n",
            "Epoch 2/5\n",
            "562/562 - 163s - 291ms/step - accuracy: 0.9235 - loss: 0.2288 - val_accuracy: 0.9326 - val_loss: 0.2172\n",
            "Epoch 3/5\n",
            "562/562 - 163s - 290ms/step - accuracy: 0.9389 - loss: 0.2004 - val_accuracy: 0.9516 - val_loss: 0.1658\n",
            "Epoch 4/5\n",
            "562/562 - 164s - 292ms/step - accuracy: 0.9480 - loss: 0.1684 - val_accuracy: 0.9543 - val_loss: 0.1494\n",
            "Epoch 5/5\n",
            "562/562 - 166s - 295ms/step - accuracy: 0.9369 - loss: 0.1889 - val_accuracy: 0.9679 - val_loss: 0.1359\n",
            "\n",
            "Training Bi-LSTM\n",
            "Epoch 1/5\n",
            "562/562 - 275s - 489ms/step - accuracy: 0.9855 - loss: 0.0526 - val_accuracy: 0.9992 - val_loss: 0.0053\n",
            "Epoch 2/5\n",
            "562/562 - 272s - 483ms/step - accuracy: 0.9988 - loss: 0.0061 - val_accuracy: 0.9993 - val_loss: 0.0042\n",
            "Epoch 3/5\n",
            "562/562 - 275s - 490ms/step - accuracy: 0.9993 - loss: 0.0034 - val_accuracy: 0.9988 - val_loss: 0.0050\n",
            "Epoch 4/5\n",
            "562/562 - 271s - 483ms/step - accuracy: 0.9997 - loss: 0.0016 - val_accuracy: 0.9994 - val_loss: 0.0040\n",
            "Epoch 5/5\n",
            "562/562 - 271s - 482ms/step - accuracy: 0.9999 - loss: 8.4287e-04 - val_accuracy: 0.9990 - val_loss: 0.0038\n"
          ]
        }
      ],
      "source": [
        "callbacks = [\n",
        "    # EarlyStopping(monitor='val_loss', patience=3, restore_best_weights=True),\n",
        "    ModelCheckpoint('best_model.keras', monitor='val_loss', save_best_only=True)\n",
        "]\n",
        "\n",
        "epochs_rnn = 15  # Epochs for RNN\n",
        "epochs_others = 5  # Epochs for Bi-RNN, LSTM, and Bi-LSTM\n",
        "batch_size = 64\n",
        "\n",
        "dl_models = {\n",
        "    'RNN': build_rnn(max_vocab),\n",
        "    'Bi-RNN': build_bi_rnn(max_vocab),\n",
        "    'LSTM': build_lstm(max_vocab),\n",
        "    'Bi-LSTM': build_bi_lstm(max_vocab)\n",
        "}\n",
        "\n",
        "for name, model in dl_models.items():\n",
        "    print(f\"\\nTraining {name}\")\n",
        "\n",
        "    current_epochs = epochs_rnn if name == 'RNN' else epochs_others\n",
        "\n",
        "    model.fit(\n",
        "        train_pad, y_train,\n",
        "        validation_data=(test_pad, y_test),\n",
        "        epochs=current_epochs,\n",
        "        batch_size=batch_size,\n",
        "        callbacks=callbacks,\n",
        "        verbose=2\n",
        "    )"
      ]
    },
    {
      "cell_type": "code",
      "execution_count": null,
      "id": "a5227a88",
      "metadata": {
        "execution": {
          "iopub.execute_input": "2025-04-06T15:55:49.812626Z",
          "iopub.status.busy": "2025-04-06T15:55:49.812363Z",
          "iopub.status.idle": "2025-04-06T15:57:34.808130Z",
          "shell.execute_reply": "2025-04-06T15:57:34.807090Z"
        },
        "papermill": {
          "duration": 105.006514,
          "end_time": "2025-04-06T15:57:34.809659",
          "exception": false,
          "start_time": "2025-04-06T15:55:49.803145",
          "status": "completed"
        },
        "tags": [],
        "id": "a5227a88",
        "outputId": "292b4f18-a460-4547-a4e1-5f673fe410eb"
      },
      "outputs": [
        {
          "name": "stdout",
          "output_type": "stream",
          "text": [
            "\n",
            "=== RNN Evaluation ===\n",
            "\u001b[1m281/281\u001b[0m \u001b[32m━━━━━━━━━━━━━━━━━━━━\u001b[0m\u001b[37m\u001b[0m \u001b[1m24s\u001b[0m 86ms/step\n",
            "\n",
            "=== RNN ===\n",
            "              precision    recall  f1-score   support\n",
            "\n",
            "           0     0.5990    0.9048    0.7208      4696\n",
            "           1     0.7631    0.3361    0.4667      4284\n",
            "\n",
            "    accuracy                         0.6335      8980\n",
            "   macro avg     0.6811    0.6205    0.5938      8980\n",
            "weighted avg     0.6773    0.6335    0.5996      8980\n",
            "\n"
          ]
        },
        {
          "data": {
            "image/png": "[encoded data removed]",
            "text/plain": [
              "<Figure size 640x480 with 2 Axes>"
            ]
          },
          "metadata": {},
          "output_type": "display_data"
        },
        {
          "name": "stdout",
          "output_type": "stream",
          "text": [
            "mAP: 0.6995, IoU: 0.3044\n",
            "\n",
            "=== Bi-RNN Evaluation ===\n",
            "\u001b[1m281/281\u001b[0m \u001b[32m━━━━━━━━━━━━━━━━━━━━\u001b[0m\u001b[37m\u001b[0m \u001b[1m31s\u001b[0m 108ms/step\n",
            "\n",
            "=== Bi-RNN ===\n",
            "              precision    recall  f1-score   support\n",
            "\n",
            "           0     0.9968    0.9962    0.9965      4696\n",
            "           1     0.9958    0.9965    0.9961      4284\n",
            "\n",
            "    accuracy                         0.9963      8980\n",
            "   macro avg     0.9963    0.9963    0.9963      8980\n",
            "weighted avg     0.9963    0.9963    0.9963      8980\n",
            "\n"
          ]
        },
        {
          "data": {
            "image/png": "[encoded data removed]",
            "text/plain": [
              "<Figure size 640x480 with 2 Axes>"
            ]
          },
          "metadata": {},
          "output_type": "display_data"
        },
        {
          "name": "stdout",
          "output_type": "stream",
          "text": [
            "mAP: 0.9997, IoU: 0.9923\n",
            "\n",
            "=== LSTM Evaluation ===\n",
            "\u001b[1m281/281\u001b[0m \u001b[32m━━━━━━━━━━━━━━━━━━━━\u001b[0m\u001b[37m\u001b[0m \u001b[1m22s\u001b[0m 79ms/step\n",
            "\n",
            "=== LSTM ===\n",
            "              precision    recall  f1-score   support\n",
            "\n",
            "           0     0.9522    0.9883    0.9699      4696\n",
            "           1     0.9866    0.9456    0.9657      4284\n",
            "\n",
            "    accuracy                         0.9679      8980\n",
            "   macro avg     0.9694    0.9669    0.9678      8980\n",
            "weighted avg     0.9686    0.9679    0.9679      8980\n",
            "\n"
          ]
        },
        {
          "data": {
            "image/png": "[encoded data removed]",
            "text/plain": [
              "<Figure size 640x480 with 2 Axes>"
            ]
          },
          "metadata": {},
          "output_type": "display_data"
        },
        {
          "name": "stdout",
          "output_type": "stream",
          "text": [
            "mAP: 0.9851, IoU: 0.9336\n",
            "\n",
            "=== Bi-LSTM Evaluation ===\n",
            "\u001b[1m281/281\u001b[0m \u001b[32m━━━━━━━━━━━━━━━━━━━━\u001b[0m\u001b[37m\u001b[0m \u001b[1m26s\u001b[0m 92ms/step\n",
            "\n",
            "=== Bi-LSTM ===\n",
            "              precision    recall  f1-score   support\n",
            "\n",
            "           0     0.9994    0.9987    0.9990      4696\n",
            "           1     0.9986    0.9993    0.9989      4284\n",
            "\n",
            "    accuracy                         0.9990      8980\n",
            "   macro avg     0.9990    0.9990    0.9990      8980\n",
            "weighted avg     0.9990    0.9990    0.9990      8980\n",
            "\n"
          ]
        },
        {
          "data": {
            "image/png": "[encoded data removed]",
            "text/plain": [
              "<Figure size 640x480 with 2 Axes>"
            ]
          },
          "metadata": {},
          "output_type": "display_data"
        },
        {
          "name": "stdout",
          "output_type": "stream",
          "text": [
            "mAP: 1.0000, IoU: 0.9979\n"
          ]
        }
      ],
      "source": [
        "for name, model in dl_models.items():\n",
        "    print(f\"\\n=== {name} Evaluation ===\")\n",
        "    probs = model.predict(test_pad).flatten()\n",
        "    preds = (probs > 0.5).astype(int)\n",
        "    evaluate_model(y_test, preds, probs, name)"
      ]
    },
    {
      "cell_type": "code",
      "execution_count": null,
      "id": "91e009ea",
      "metadata": {
        "papermill": {
          "duration": 0.059977,
          "end_time": "2025-04-06T15:57:34.931917",
          "exception": false,
          "start_time": "2025-04-06T15:57:34.871940",
          "status": "completed"
        },
        "tags": [],
        "id": "91e009ea"
      },
      "outputs": [],
      "source": []
    }
  ],
  "metadata": {
    "kaggle": {
      "accelerator": "nvidiaTeslaT4",
      "dataSources": [
        {
          "datasetId": 2712039,
          "sourceId": 4679796,
          "sourceType": "datasetVersion"
        }
      ],
      "dockerImageVersionId": 30918,
      "isGpuEnabled": true,
      "isInternetEnabled": true,
      "language": "python",
      "sourceType": "notebook"
    },
    "kernelspec": {
      "display_name": "Python 3",
      "language": "python",
      "name": "python3"
    },
    "language_info": {
      "codemirror_mode": {
        "name": "ipython",
        "version": 3
      },
      "file_extension": ".py",
      "mimetype": "text/x-python",
      "name": "python",
      "nbconvert_exporter": "python",
      "pygments_lexer": "ipython3",
      "version": "3.10.12"
    },
    "papermill": {
      "default_parameters": {},
      "duration": 7556.098966,
      "end_time": "2025-04-06T15:57:38.415325",
      "environment_variables": {},
      "exception": null,
      "input_path": "__notebook__.ipynb",
      "output_path": "__notebook__.ipynb",
      "parameters": {},
      "start_time": "2025-04-06T13:51:42.316359",
      "version": "2.6.0"
    },
    "colab": {
      "provenance": []
    }
  },
  "nbformat": 4,
  "nbformat_minor": 5
}