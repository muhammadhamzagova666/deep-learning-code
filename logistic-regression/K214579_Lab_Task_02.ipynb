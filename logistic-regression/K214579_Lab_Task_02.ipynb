{
  "cells": [
    {
      "cell_type": "markdown",
      "metadata": {
        "id": "KL0NICtG3-8j"
      },
      "source": [
        "# Lab Tasks:\n",
        "1.​ Use HeartDisease dataset and apply LinearRegression and then pass the result to sigmoid function (write from scratch) and then compare the accuracy of both models.\n",
        "\n",
        "2.​ Calculate binary cross entropy loss on the above experiment. Write from scratch.\n",
        "\n",
        "3.​ Download a new dataset from UCI Repository https://archive.ics.uci.edu/ml/datasets.php and evaluate its accuracy on 5 cross fold.\n",
        "\n",
        "4.​ Consider a logistic regression model with w1=0.5 and w2=0.31 and b=0.09. X1 = 5, X2 = 3 and actual y is 1. Calculate this numerical by hand and verify your answers by coding the functions below.\n",
        "\n",
        "Write below functions from scratch:\n",
        "\n",
        "●​ ForwardPropagation()\n",
        "\n",
        "●​ LossCalculation()\n",
        "\n",
        "●​ BackwardPropagation() # This function must update the old weights\n",
        "\n",
        "●​ MainLoop which must iterate 5 times and call all the above functions."
      ]
    },
    {
      "cell_type": "code",
      "execution_count": 117,
      "metadata": {
        "id": "O0SerRO61eAR"
      },
      "outputs": [],
      "source": [
        "#Importing libraries\n",
        "import numpy as np\n",
        "import pandas as pd\n",
        "import matplotlib.pyplot as plt\n",
        "import seaborn as sns\n",
        "dataframe = pd.read_csv('heart_disease_dataset_UCI.csv')"
      ]
    },
    {
      "cell_type": "markdown",
      "metadata": {
        "id": "qvxBFIRH5GJF"
      },
      "source": [
        "# Data Pre Processing"
      ]
    },
    {
      "cell_type": "code",
      "execution_count": 118,
      "metadata": {
        "id": "KGDDK-v444bR"
      },
      "outputs": [],
      "source": [
        "X = dataframe.iloc[:,0:13]\n",
        "y = dataframe.iloc[:,13]\n",
        "X = X.values\n",
        "y = y.values\n",
        "from sklearn.preprocessing import StandardScaler\n",
        "X_std=StandardScaler().fit_transform(X)"
      ]
    },
    {
      "cell_type": "code",
      "execution_count": 119,
      "metadata": {
        "id": "f4fayUzX5OfN"
      },
      "outputs": [],
      "source": [
        "from sklearn.model_selection import train_test_split\n",
        "X_train,X_test,y_train,y_test=train_test_split(X_std,y,test_size=0.25,random_state=40)"
      ]
    },
    {
      "cell_type": "markdown",
      "metadata": {
        "id": "XjVVHS_t5Ssu"
      },
      "source": [
        "# Model Prediction"
      ]
    },
    {
      "cell_type": "code",
      "execution_count": 120,
      "metadata": {
        "id": "VTUQ_S4n5VSF"
      },
      "outputs": [],
      "source": [
        "from sklearn.linear_model import LogisticRegression\n",
        "from sklearn.metrics import confusion_matrix\n",
        "lr=LogisticRegression(C=1.0,class_weight='balanced',max_iter=100,penalty='l2',random_state=1234,solver='lbfgs',tol=0.0001)\n",
        "# https://scikit-learn.org/stable/modules/generated/sklearn.linear_model.LogisticRegression.html\n"
      ]
    },
    {
      "cell_type": "code",
      "execution_count": 121,
      "metadata": {
        "colab": {
          "base_uri": "https://localhost:8080/"
        },
        "id": "CWIikWkj5fRx",
        "outputId": "877b0b82-871c-44ed-ef0e-da1414a6feef"
      },
      "outputs": [
        {
          "data": {
            "text/plain": [
              "0.8458149779735683"
            ]
          },
          "execution_count": 121,
          "metadata": {},
          "output_type": "execute_result"
        }
      ],
      "source": [
        "model1=lr.fit(X_train,y_train)\n",
        "model1.score(X_train, y_train)\n"
      ]
    },
    {
      "cell_type": "code",
      "execution_count": 122,
      "metadata": {
        "id": "72NKOOgV6CXa"
      },
      "outputs": [],
      "source": [
        "prediction1=model1.predict(X_test)"
      ]
    },
    {
      "cell_type": "code",
      "execution_count": 123,
      "metadata": {
        "colab": {
          "base_uri": "https://localhost:8080/",
          "height": 447
        },
        "id": "S0JsB3v75lP-",
        "outputId": "b625231f-7360-4563-e47d-3e2bc52dd3f6"
      },
      "outputs": [
        {
          "data": {
            "text/plain": [
              "<AxesSubplot: >"
            ]
          },
          "execution_count": 123,
          "metadata": {},
          "output_type": "execute_result"
        },
        {
          "data": {
            "image/png": "[encoded data removed]",
            "text/plain": [
              "<Figure size 640x480 with 2 Axes>"
            ]
          },
          "metadata": {},
          "output_type": "display_data"
        }
      ],
      "source": [
        "# Confusion Matrix\n",
        "cm=confusion_matrix(y_test,prediction1)\n",
        "sns.heatmap(cm,annot=True,cmap='winter',linewidths=0.3,\n",
        "linecolor='black',annot_kws={\"size\":20})"
      ]
    },
    {
      "cell_type": "code",
      "execution_count": 124,
      "metadata": {
        "colab": {
          "base_uri": "https://localhost:8080/"
        },
        "id": "oHKuqbZR5pXs",
        "outputId": "1af618d1-1ca4-4de6-e1ac-263a78b10755"
      },
      "outputs": [
        {
          "name": "stdout",
          "output_type": "stream",
          "text": [
            "Testing Accuracy for Logistic Regression: 0.8947368421052632\n",
            "Testing Sensitivity for logistic Regression: 0.8823529411764706\n",
            "Testing Specificity for Logistic Regression: 0.9047619047619048\n",
            "Testing Precision for Logistic Regression 0.8823529411764706\n"
          ]
        }
      ],
      "source": [
        "TP=cm[0][0]\n",
        "TN=cm[1][1]\n",
        "FN=cm[1][0]\n",
        "FP=cm[0][1]\n",
        "print('Testing Accuracy for Logistic Regression:',(TP+TN)/(TP+TN+FN+FP))\n",
        "print('Testing Sensitivity for logistic Regression:',(TP/(TP+FN)))\n",
        "print('Testing Specificity for Logistic Regression:',(TN/(TN+FP)))\n",
        "print('Testing Precision for Logistic Regression',(TP/(TP+FP)))"
      ]
    },
    {
      "cell_type": "markdown",
      "metadata": {},
      "source": [
        "Task-01"
      ]
    },
    {
      "cell_type": "code",
      "execution_count": 125,
      "metadata": {},
      "outputs": [
        {
          "name": "stdout",
          "output_type": "stream",
          "text": [
            "Accuracy of Linear Regression with Sigmoid: 0.66\n",
            "Accuracy of Logistic Regression with Sigmoid: 0.89\n"
          ]
        }
      ],
      "source": [
        "import pandas as pd\n",
        "from sklearn.model_selection import train_test_split\n",
        "from sklearn.linear_model import LinearRegression\n",
        "from sklearn.metrics import accuracy_score\n",
        "import numpy as np\n",
        "\n",
        "dataframe = pd.read_csv('heart_disease_dataset_UCI.csv')\n",
        "\n",
        "X = dataframe.iloc[:,0:13]\n",
        "y = dataframe.iloc[:,13]\n",
        "X = X.values\n",
        "y = y.values\n",
        "\n",
        "X_train,X_test,y_train,y_test=train_test_split(X_std,y,test_size=0.25,random_state=40)\n",
        "\n",
        "model = LinearRegression()\n",
        "model.fit(X_train, y_train)\n",
        "y_val_pred = model.predict(X_test)\n",
        "\n",
        "def sigmoid(x):\n",
        "    return 1 / (1 + np.exp(-x))\n",
        "\n",
        "y_pred_sigmoid = sigmoid(y_val_pred)\n",
        "\n",
        "y_pred_class = [1 if i > 0.5 else 0 for i in y_pred_sigmoid]\n",
        "\n",
        "accuracy_lr = accuracy_score(y_test, y_pred_class)\n",
        "accuracy_log = (TP+TN)/(TP+TN+FN+FP)\n",
        "\n",
        "print(f'Accuracy of Linear Regression with Sigmoid: {accuracy_lr:.2f}')\n",
        "print(f'Accuracy of Logistic Regression with Sigmoid: {accuracy_log:.2f}')"
      ]
    },
    {
      "cell_type": "markdown",
      "metadata": {},
      "source": [
        "Task-02"
      ]
    },
    {
      "cell_type": "code",
      "execution_count": 126,
      "metadata": {},
      "outputs": [
        {
          "name": "stdout",
          "output_type": "stream",
          "text": [
            "Binary Cross-Entropy Loss: 0.57\n"
          ]
        }
      ],
      "source": [
        "def binary_cross_entropy(y_true, y_pred):\n",
        "    epsilon = 1e-15  # to avoid log(0)\n",
        "    y_pred = np.clip(y_pred, epsilon, 1 - epsilon)\n",
        "    return -np.mean(y_true * np.log(y_pred) + (1 - y_true) * np.log(1 - y_pred))\n",
        "\n",
        "bce_loss = binary_cross_entropy(y_test, y_pred_sigmoid)\n",
        "\n",
        "print(f'Binary Cross-Entropy Loss: {bce_loss:.2f}')"
      ]
    },
    {
      "cell_type": "markdown",
      "metadata": {},
      "source": [
        "Task-03"
      ]
    },
    {
      "cell_type": "code",
      "execution_count": 127,
      "metadata": {},
      "outputs": [
        {
          "name": "stdout",
          "output_type": "stream",
          "text": [
            "Fold 1: Accuracy on Validation Set: 1.0\n",
            "Fold 2: Accuracy on Validation Set: 0.9629629629629629\n",
            "Fold 3: Accuracy on Validation Set: 1.0\n",
            "Fold 4: Accuracy on Validation Set: 0.9615384615384616\n",
            "Fold 5: Accuracy on Validation Set: 1.0\n",
            "\n",
            "Mean Accuracy on Validation Set: 0.9849002849002849\n",
            "\n",
            "Accuracy on Test Set: 1.0\n"
          ]
        }
      ],
      "source": [
        "from sklearn.model_selection import KFold\n",
        "from sklearn.datasets import load_wine\n",
        "\n",
        "wine = load_wine()\n",
        "X = wine.data\n",
        "y = wine.target\n",
        "\n",
        "scaler = StandardScaler()\n",
        "X_std = scaler.fit_transform(X)\n",
        "\n",
        "X_train,X_test,y_train,y_test=train_test_split(X_std,y,test_size=0.25,random_state=40)\n",
        "\n",
        "model = LogisticRegression(C=1.0,class_weight='balanced',max_iter=100,penalty='l2',random_state=1234,solver='lbfgs',tol=0.0001)\n",
        "\n",
        "num_folds = 5\n",
        "kf = KFold(n_splits=num_folds, shuffle=True, random_state=42)\n",
        "\n",
        "fold_accuracies = []\n",
        "for fold, (train_index, val_index) in enumerate(kf.split(X_train)):\n",
        "    X_train_fold, X_val_fold = X_train[train_index], X_train[val_index]\n",
        "    y_train_fold, y_val_fold = y_train[train_index], y_train[val_index]\n",
        "\n",
        "    model.fit(X_train_fold, y_train_fold)\n",
        "    y_val_pred_fold = model.predict(X_val_fold)\n",
        "\n",
        "    accuracy_fold = accuracy_score(y_val_fold, y_val_pred_fold)\n",
        "    fold_accuracies.append(accuracy_fold)\n",
        "    print(f\"Fold {fold + 1}: Accuracy on Validation Set: {accuracy_fold}\")\n",
        "\n",
        "mean_accuracy = np.mean(fold_accuracies)\n",
        "print(f\"\\nMean Accuracy on Validation Set: {mean_accuracy}\")\n",
        "\n",
        "model.fit(X_train, y_train)\n",
        "y_test_pred = model.predict(X_test)\n",
        "test_accuracy = accuracy_score(y_test, y_test_pred)\n",
        "print(f\"\\nAccuracy on Test Set: {test_accuracy}\")"
      ]
    },
    {
      "cell_type": "markdown",
      "metadata": {},
      "source": [
        "Task-04"
      ]
    },
    {
      "cell_type": "code",
      "execution_count": 128,
      "metadata": {},
      "outputs": [
        {
          "name": "stdout",
          "output_type": "stream",
          "text": [
            "Iteration 1:\n",
            "Predicted y: 0.97125150407346\n",
            "Loss: 0.02916982870589597\n",
            "Updated weights: w1=0.501437424796327, w2=0.3108624548777962, b=0.09028748495926539\n",
            "\n",
            "Iteration 2:\n",
            "Predicted y: 0.9715311264497017\n",
            "Loss: 0.02888197110023338\n",
            "Updated weights: w1=0.5028608684738419, w2=0.31171652108430514, b=0.09057217369476837\n",
            "\n",
            "Iteration 3:\n",
            "Predicted y: 0.9718054266025292\n",
            "Loss: 0.028599672952526238\n",
            "Updated weights: w1=0.5042705971437155, w2=0.31256235828622925, b=0.09085411942874308\n",
            "\n",
            "Iteration 4:\n",
            "Predicted y: 0.9720745538105361\n",
            "Loss: 0.028322776011935058\n",
            "Updated weights: w1=0.5056668694531886, w2=0.31340012167191317, b=0.09113337389063772\n",
            "\n",
            "Iteration 5:\n",
            "Predicted y: 0.9723386518565952\n",
            "Loss: 0.028051127941541996\n",
            "Updated weights: w1=0.5070499368603588, w2=0.3142299621162153, b=0.09140998737207177\n",
            "\n"
          ]
        }
      ],
      "source": [
        "import numpy as np\n",
        "\n",
        "w1, w2, b = 0.5, 0.31, 0.09\n",
        "X1, X2 = 5, 3\n",
        "y_actual = 1\n",
        "learning_rate = 0.01\n",
        "\n",
        "def sigmoid(z):\n",
        "    return 1 / (1 + np.exp(-z))\n",
        "\n",
        "def forward_propagation(X1, X2, w1, w2, b):\n",
        "    z = w1 * X1 + w2 * X2 + b\n",
        "    y_pred = sigmoid(z)\n",
        "    return y_pred\n",
        "\n",
        "def loss_calculation(y_actual, y_pred):\n",
        "    epsilon = 1e-15  # to avoid log(0)\n",
        "    y_pred = np.clip(y_pred, epsilon, 1 - epsilon)\n",
        "    loss = - (y_actual * np.log(y_pred) + (1 - y_actual) * np.log(1 - y_pred))\n",
        "    return loss\n",
        "\n",
        "def backward_propagation(X1, X2, y_actual, y_pred, w1, w2, b, learning_rate):\n",
        "    dw1 = (y_pred - y_actual) * X1\n",
        "    dw2 = (y_pred - y_actual) * X2\n",
        "    db = (y_pred - y_actual)\n",
        "    \n",
        "    w1 -= learning_rate * dw1\n",
        "    w2 -= learning_rate * dw2\n",
        "    b -= learning_rate * db\n",
        "    \n",
        "    return w1, w2, b\n",
        "\n",
        "def main_loop(X1, X2, y_actual, w1, w2, b, learning_rate, iterations=5):\n",
        "    for i in range(iterations):\n",
        "        y_pred = forward_propagation(X1, X2, w1, w2, b)\n",
        "        loss = loss_calculation(y_actual, y_pred)\n",
        "        w1, w2, b = backward_propagation(X1, X2, y_actual, y_pred, w1, w2, b, learning_rate)\n",
        "        \n",
        "        print(f\"Iteration {i+1}:\")\n",
        "        print(f\"Predicted y: {y_pred}\")\n",
        "        print(f\"Loss: {loss}\")\n",
        "        print(f\"Updated weights: w1={w1}, w2={w2}, b={b}\")\n",
        "        print(\"\")\n",
        "\n",
        "main_loop(X1, X2, y_actual, w1, w2, b, learning_rate)"
      ]
    }
  ],
  "metadata": {
    "colab": {
      "provenance": []
    },
    "kernelspec": {
      "display_name": "Python 3",
      "name": "python3"
    },
    "language_info": {
      "codemirror_mode": {
        "name": "ipython",
        "version": 3
      },
      "file_extension": ".py",
      "mimetype": "text/x-python",
      "name": "python",
      "nbconvert_exporter": "python",
      "pygments_lexer": "ipython3",
      "version": "3.12.3"
    }
  },
  "nbformat": 4,
  "nbformat_minor": 0
}
